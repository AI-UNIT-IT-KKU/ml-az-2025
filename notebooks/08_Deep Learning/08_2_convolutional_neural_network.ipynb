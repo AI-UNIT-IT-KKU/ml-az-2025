{
  "nbformat": 4,
  "nbformat_minor": 0,
  "metadata": {
    "colab": {
      "provenance": []
    },
    "kernelspec": {
      "name": "python3",
      "display_name": "Python 3"
    }
  },
  "cells": [
    {
      "cell_type": "markdown",
      "metadata": {
        "id": "3DR-eO17geWu"
      },
      "source": [
        "🎉 Congrats on mastering Artificial Neural Networks! You've now reached **Part 8 - Section 2** of your deep learning journey: **Convolutional Neural Networks (CNNs)** — the backbone of modern computer vision. 📸🚀\n",
        "\n",
        "\n",
        "In this part, we’ll build your very first CNN to classify images of **cats and dogs** — a classic deep learning problem.\n",
        "\n",
        "\n",
        "---\n",
        "\n",
        "\n",
        "## 👀 How Humans See vs. How CNNs Work\n",
        "\n",
        "\n",
        "Before diving into code, let's explore **why CNNs exist**.\n",
        "\n",
        "\n",
        "When we humans look at an image, we detect **features** — eyes, ears, fur, shape, etc. Depending on the features your brain picks up, your interpretation might change (remember the duck or rabbit illusion? 🐇🦆).\n",
        "\n",
        "\n",
        "CNNs aim to mimic this by learning **features in layers**:\n",
        "- Low-level: edges, textures\n",
        "- Mid-level: shapes\n",
        "- High-level: full objects (dog vs cat)\n",
        "\n",
        "\n",
        "---\n",
        "\n",
        "\n",
        "## 🔍 Step-by-Step: How CNNs See an Image\n",
        "\n",
        "\n",
        "### 🧱 1. **Convolution Layer**\n",
        "- Applies **filters** to extract patterns.\n",
        "- Each filter detects specific features like edges or textures.\n",
        "- The result is a **feature map**.\n",
        "\n",
        "\n",
        "### ⚡ 2. **ReLU Layer**\n",
        "- Applies non-linearity to the feature map.\n",
        "- Helps the network learn complex patterns.\n",
        "\n",
        "\n",
        "### 🔽 3. **Pooling Layer**\n",
        "- Reduces image size (downsampling).\n",
        "- Common method: **Max Pooling** — takes the max value in a window.\n",
        "\n",
        "\n",
        "### 🧾 4. **Flattening**\n",
        "- Converts pooled feature maps into a 1D vector.\n",
        "- This vector is input into the neural network.\n",
        "\n",
        "\n",
        "### 🔗 5. **Fully Connected Layers**\n",
        "- Traditional ANN layers.\n",
        "- Perform the actual classification.\n",
        "\n",
        "\n",
        "### 🧠 Output\n",
        "- For binary classification (cat vs dog), we use **1 output neuron** with **Sigmoid activation**.\n",
        "\n",
        "\n",
        "---\n",
        "\n",
        "\n",
        "## 🛠️ Building a CNN with TensorFlow\n",
        "\n",
        "\n",
        "We’ll now build a real CNN with TensorFlow:\n",
        "- 2 Convolution + Pooling layers.\n",
        "- 1 Flatten layer.\n",
        "- 2 Dense (fully connected) layers.\n",
        "\n",
        "\n",
        "You’ll train it on cat/dog images using `ImageDataGenerator` for image preprocessing and augmentation.\n",
        "\n",
        "\n",
        "---"
      ]
    },
    {
      "cell_type": "markdown",
      "metadata": {
        "id": "EMefrVPCg-60"
      },
      "source": [
        "### ⭐ Importing the libraries"
      ]
    },
    {
      "cell_type": "code",
      "metadata": {
        "id": "sCV30xyVhFbE"
      },
      "source": [
        "import tensorflow as tf\n",
        "from tensorflow.keras.preprocessing.image import ImageDataGenerator"
      ],
      "execution_count": null,
      "outputs": []
    },
    {
      "cell_type": "code",
      "metadata": {
        "id": "FIleuCAjoFD8"
      },
      "source": [
        "tf.__version__"
      ],
      "execution_count": null,
      "outputs": []
    },
    {
      "cell_type": "markdown",
      "metadata": {
        "id": "oxQxCBWyoGPE"
      },
      "source": [
        "## ⭐ Part 1 - Data Preprocessing"
      ]
    },
    {
      "cell_type": "markdown",
      "metadata": {
        "id": "MvE-heJNo3GG"
      },
      "source": [
        "### Preprocessing the Training set"
      ]
    },
    {
      "cell_type": "code",
      "metadata": {
        "id": "0koUcJMJpEBD"
      },
      "source": [
        "train_datagen = ImageDataGenerator(rescale = 1./255,\n",
        "                                   shear_range = 0.2,\n",
        "                                   zoom_range = 0.2,\n",
        "                                   horizontal_flip = True)\n",
        "training_set = train_datagen.flow_from_directory('dataset/training_set',\n",
        "                                                 target_size = (64, 64),\n",
        "                                                 batch_size = 32,\n",
        "                                                 class_mode = 'binary')"
      ],
      "execution_count": null,
      "outputs": []
    },
    {
      "cell_type": "markdown",
      "metadata": {
        "id": "mrCMmGw9pHys"
      },
      "source": [
        "### Preprocessing the Test set"
      ]
    },
    {
      "cell_type": "code",
      "metadata": {
        "id": "SH4WzfOhpKc3"
      },
      "source": [
        "test_datagen = ImageDataGenerator(rescale = 1./255)\n",
        "test_set = test_datagen.flow_from_directory('dataset/test_set',\n",
        "                                            target_size = (64, 64),\n",
        "                                            batch_size = 32,\n",
        "                                            class_mode = 'binary')"
      ],
      "execution_count": null,
      "outputs": []
    },
    {
      "cell_type": "markdown",
      "metadata": {
        "id": "af8O4l90gk7B"
      },
      "source": [
        "## ⭐ Part 2 - Building the CNN\n",
        "\n",
        "\n",
        "\n",
        "| Layer | Description |\n",
        "|-------|-------------|\n",
        "| Conv2D | Extracts features using 32 filters of size 3x3 |\n",
        "| MaxPooling2D | Downsamples features (pool size 2x2) |\n",
        "| Conv2D (2nd) | Detects more complex patterns |\n",
        "| MaxPooling2D | Further reduces size |\n",
        "| Flatten | Converts to 1D array |\n",
        "| Dense (128) | Fully connected hidden layer |\n",
        "| Dense (1) | Output layer with Sigmoid activation |"
      ]
    },
    {
      "cell_type": "markdown",
      "metadata": {
        "id": "ces1gXY2lmoX"
      },
      "source": [
        "### Initialising the CNN"
      ]
    },
    {
      "cell_type": "code",
      "metadata": {
        "id": "SAUt4UMPlhLS"
      },
      "source": [
        "cnn = tf.keras.models.Sequential()"
      ],
      "execution_count": null,
      "outputs": []
    },
    {
      "cell_type": "markdown",
      "metadata": {
        "id": "u5YJj_XMl5LF"
      },
      "source": [
        "### Step 1 - Convolution"
      ]
    },
    {
      "cell_type": "code",
      "metadata": {
        "id": "XPzPrMckl-hV"
      },
      "source": [
        "cnn.add(tf.keras.layers.Conv2D(filters=32, kernel_size=3, activation='relu', input_shape=[64, 64, 3]))"
      ],
      "execution_count": null,
      "outputs": []
    },
    {
      "cell_type": "markdown",
      "metadata": {
        "id": "tf87FpvxmNOJ"
      },
      "source": [
        "### Step 2 - Pooling"
      ]
    },
    {
      "cell_type": "code",
      "metadata": {
        "id": "ncpqPl69mOac"
      },
      "source": [
        "cnn.add(tf.keras.layers.MaxPool2D(pool_size=2, strides=2))"
      ],
      "execution_count": null,
      "outputs": []
    },
    {
      "cell_type": "markdown",
      "metadata": {
        "id": "xaTOgD8rm4mU"
      },
      "source": [
        "### Adding a second convolutional layer"
      ]
    },
    {
      "cell_type": "code",
      "metadata": {
        "id": "i_-FZjn_m8gk"
      },
      "source": [
        "cnn.add(tf.keras.layers.Conv2D(filters=32, kernel_size=3, activation='relu'))\n",
        "cnn.add(tf.keras.layers.MaxPool2D(pool_size=2, strides=2))"
      ],
      "execution_count": null,
      "outputs": []
    },
    {
      "cell_type": "markdown",
      "metadata": {
        "id": "tmiEuvTunKfk"
      },
      "source": [
        "### Step 3 - Flattening"
      ]
    },
    {
      "cell_type": "code",
      "metadata": {
        "id": "6AZeOGCvnNZn"
      },
      "source": [
        "cnn.add(tf.keras.layers.Flatten())"
      ],
      "execution_count": null,
      "outputs": []
    },
    {
      "cell_type": "markdown",
      "metadata": {
        "id": "dAoSECOm203v"
      },
      "source": [
        "### Step 4 - Full Connection"
      ]
    },
    {
      "cell_type": "code",
      "metadata": {
        "id": "8GtmUlLd26Nq"
      },
      "source": [
        "cnn.add(tf.keras.layers.Dense(units=128, activation='relu'))"
      ],
      "execution_count": null,
      "outputs": []
    },
    {
      "cell_type": "markdown",
      "metadata": {
        "id": "yTldFvbX28Na"
      },
      "source": [
        "### Step 5 - Output Layer"
      ]
    },
    {
      "cell_type": "code",
      "metadata": {
        "id": "1p_Zj1Mc3Ko_"
      },
      "source": [
        "cnn.add(tf.keras.layers.Dense(units=1, activation='sigmoid'))"
      ],
      "execution_count": null,
      "outputs": []
    },
    {
      "cell_type": "markdown",
      "metadata": {
        "id": "D6XkI90snSDl"
      },
      "source": [
        "## ⭐ Part 3 - Training the CNN\n",
        "\n",
        "\n",
        "- **Optimizer**: `adam` — fast and adaptive.\n",
        "- **Loss function**: `binary_crossentropy` — perfect for binary classification.\n",
        "- **Metrics**: `accuracy`\n",
        "- **Epochs**: 25\n",
        "\n",
        "\n",
        "After training, the model learns to differentiate between cats and dogs with increasing accuracy.\n",
        "\n"
      ]
    },
    {
      "cell_type": "markdown",
      "metadata": {
        "id": "vfrFQACEnc6i"
      },
      "source": [
        "### Compiling the CNN"
      ]
    },
    {
      "cell_type": "code",
      "metadata": {
        "id": "NALksrNQpUlJ"
      },
      "source": [
        "cnn.compile(optimizer = 'adam', loss = 'binary_crossentropy', metrics = ['accuracy'])"
      ],
      "execution_count": null,
      "outputs": []
    },
    {
      "cell_type": "markdown",
      "metadata": {
        "id": "ehS-v3MIpX2h"
      },
      "source": [
        "### Training the CNN on the Training set and evaluating it on the Test set"
      ]
    },
    {
      "cell_type": "code",
      "metadata": {
        "id": "XUj1W4PJptta"
      },
      "source": [
        "cnn.fit(x = training_set, validation_data = test_set, epochs = 25)"
      ],
      "execution_count": null,
      "outputs": []
    },
    {
      "cell_type": "markdown",
      "metadata": {
        "id": "U3PZasO0006Z"
      },
      "source": [
        "## ⭐ Part 4 - Making a single prediction"
      ]
    },
    {
      "cell_type": "code",
      "metadata": {
        "id": "gsSiWEJY1BPB"
      },
      "source": [
        "import numpy as np\n",
        "from tensorflow.keras.preprocessing import image\n",
        "test_image = image.load_img('dataset/single_prediction/cat_or_dog_1.jpg', target_size = (64, 64))\n",
        "test_image = image.img_to_array(test_image)\n",
        "test_image = np.expand_dims(test_image, axis = 0)\n",
        "result = cnn.predict(test_image)\n",
        "training_set.class_indices\n",
        "if result[0][0] == 1:\n",
        "  prediction = 'dog'\n",
        "else:\n",
        "  prediction = 'cat'"
      ],
      "execution_count": null,
      "outputs": []
    },
    {
      "cell_type": "code",
      "metadata": {
        "id": "ED9KB3I54c1i"
      },
      "source": [
        "print(prediction)"
      ],
      "execution_count": null,
      "outputs": []
    },
    {
      "cell_type": "markdown",
      "source": [
        "---\n",
        "\n",
        "## ✅ Wrap-Up: What You’ve Learned\n",
        "\n",
        "\n",
        "🎯 In this section, you:\n",
        "- Understood how CNNs mimic human vision.\n",
        "- Learned key concepts: convolution, pooling, flattening, fully connected layers.\n",
        "- Built a CNN to classify cat and dog images.\n",
        "- Made your own predictions on new images."
      ],
      "metadata": {
        "id": "ZSGFj52iE9s_"
      }
    }
  ]
}